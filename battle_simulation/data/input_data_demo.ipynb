{
 "cells": [
  {
   "cell_type": "markdown",
   "metadata": {},
   "source": [
    "### minion instance"
   ]
  },
  {
   "cell_type": "code",
   "execution_count": null,
   "metadata": {},
   "outputs": [],
   "source": [
    "# minion instance\n",
    "# primary key: id -> mid\n",
    "{\n",
    "\t\"id\": 1,\n",
    "\t\"uid\": 1,\n",
    "\t\"level\": 60,\n",
    "\t\"tot_xp\": 150000,\n",
    "\t\"xp_to_next_level\": 6000,\n",
    "    #\"tot_stats_pt\": 136,\n",
    "    #\"assigned_stats_pt\": 136,\n",
    "    #\"free_stats_pt\": 0,\n",
    "    \"type1\":\"flight\",\n",
    "    \"type2\":\"longrange\",\n",
    "\t\"base_stats\": [35, 20, 15, 23, 10, 17, 26],  # strength, endurance, dexterity, obedience, constituition, intelligence, wisdom\n",
    "\t#\"stats_ceiling\":[100, 100, 100, 100, 100, 100, 100],\n",
    "\t\"cur_stats\": [],  # base_stats * wellness_factor * luck\n",
    "\t\"base_substats\": [],  # attack, defense, critical, hit; f(base_stats)\n",
    "\t\"cur_substats\": [], # f(current_stats)\n",
    "\t\"base_attributes_capacity\": [],  # hit points, ability points, energy points; f(base_stats)\n",
    "\t\"cur_attributes_capacity\": [], # hit points, ability points, energy points; f(current_stats)\n",
    "    \"base_attributes\": [1900, 490, 485], # keep track of depletion and replenishment, clipped by base_attributes_ceiling\n",
    "    \"cur_attributes\": [], # base_attributes * luck, clipped by current_attributes_ceiling? problem: attibute ceiling is fluctuating\n",
    "\t\"mp\": 0, # meter points\n",
    "    \"mp_capacity\": 200, \n",
    "    \"mp_regen_per_second\": 3, # mp regenerated per second\n",
    "    \"mp_gain_rate_damage_dealt\": 0.2, #  mp += rate * damage dealt \n",
    "    \"mp_gain_rate_damage_taken\":0.3, # mp += rate * damage taken\n",
    "    \"states\": [0,0,0],\n",
    "    \"stats_coeff\": [[5, 3, 0.005, 0.015, 85, 50, 70], #coefficents\n",
    "                    [60, 30, 0.20, 0.50, 500, 500, 500]], #initial substats and attributes at lvl 0\n",
    "\t\"base_transition_matrix\": [[0.5, 0.3, 0.2],\n",
    "            [0.25, 0.5, 0.25],\n",
    "            [0.2, 0.3, 0.5]],\n",
    "\t\"cur_transition_matrix\": [[0.5, 0.3, 0.2],\n",
    "            [0.25, 0.5, 0.25],\n",
    "            [0.2, 0.3, 0.5]], # f(base_transition_matrix, alpha)\n",
    "\t\"wellness_goal\": [1,1,1,1,1], # fast food vs grocery, gym vs movie, ...\n",
    "    \"wellness_factor\": 1.25, # f(wellness_goal, transaction or user activities)\n",
    "\t\"luck\": [], # stats, attributes, skills, abilities\n",
    "\t\"cp\": 0, # f(cur_substats, cur_attributes)\n",
    "\t\"skills\": [1,2], # sid\n",
    "\t\"abilities\": []\n",
    "}"
   ]
  },
  {
   "cell_type": "markdown",
   "metadata": {},
   "source": [
    "### skill instance"
   ]
  },
  {
   "cell_type": "code",
   "execution_count": null,
   "metadata": {},
   "outputs": [],
   "source": [
    "# skill instance\n",
    "# primary key: id -> sid\n",
    "[{\n",
    "\t\t\"id\": 1,\n",
    "\t\t\"name\": \"fast_move_1\",\n",
    "\t\t\"power\": 20,\n",
    "\t\t\"mpdelta\": 0,\n",
    "\t\t\"cast\": 0, # cast time, how long it takes for the damage to be dealt\n",
    "\t\t\"cd\": 0.5, # cooldown\n",
    "\t\t\"mtype\": \"f\"\n",
    "\t},\n",
    "\t{\n",
    "\t\t\"id\": 2,\n",
    "\t\t\"name\": \"super_move_1\",\n",
    "\t\t\"power\": 800,\n",
    "\t\t\"mpdelta\": -80,\n",
    "\t\t\"cast\": 0,\n",
    "\t\t\"cd\": 10,\n",
    "\t\t\"mtype\": \"s\"\n",
    "\t}\n",
    "]"
   ]
  },
  {
   "cell_type": "markdown",
   "metadata": {},
   "source": [
    "### Preprocessing    \n",
    " \n",
    "For minion data:    \n",
    "- load from json\n",
    "- generate_luck\n",
    "- compute_current_status"
   ]
  },
  {
   "cell_type": "code",
   "execution_count": 27,
   "metadata": {},
   "outputs": [
    {
     "data": {
      "text/plain": [
       "{1: {'id': 1,\n",
       "  'uid': 1,\n",
       "  'level': 60,\n",
       "  'tot_xp': 150000,\n",
       "  'xp_to_next_level': 6000,\n",
       "  'type1': 'flight',\n",
       "  'type2': 'longrange',\n",
       "  'base_stats': [35, 20, 15, 23, 10, 17, 26],\n",
       "  'cur_stats': array([44., 26., 14., 29., 17., 22., 23.]),\n",
       "  'base_substats': array([239.,  94.,   1.,   1.]),\n",
       "  'cur_substats': array([284., 112.,   1.,   1.]),\n",
       "  'base_attributes_capacity': array([1334., 1358., 2303.]),\n",
       "  'cur_attributes_capacity': array([1929., 1608., 2093.]),\n",
       "  'base_attributes': array([1334,  490,  485]),\n",
       "  'cur_attributes': array([1335.,  491.,  486.]),\n",
       "  'mp': 0,\n",
       "  'mp_capacity': 200,\n",
       "  'mp_regen_per_second': 3,\n",
       "  'mp_gain_rate_damage_dealt': 0.2,\n",
       "  'mp_gain_rate_damage_taken': 0.3,\n",
       "  'states': [0, 0, 0],\n",
       "  'stats_coeff': array([[5.00000000e+00, 3.00000000e+00, 5.00000000e-03, 1.50000000e-02,\n",
       "          8.50000000e+01, 5.00000000e+01, 7.00000000e+01],\n",
       "         [6.30000000e+01, 3.30000000e+01, 1.93605697e-01, 5.23670398e-01,\n",
       "          4.83000000e+02, 5.07000000e+02, 4.82000000e+02]]),\n",
       "  'base_transition_matrix': [[0.5, 0.3, 0.2],\n",
       "   [0.25, 0.5, 0.25],\n",
       "   [0.2, 0.3, 0.5]],\n",
       "  'cur_transition_matrix': [[0.5, 0.3, 0.2],\n",
       "   [0.25, 0.5, 0.25],\n",
       "   [0.2, 0.3, 0.5]],\n",
       "  'wellness_goal': [1, 1, 1, 1, 1],\n",
       "  'wellness_factor': 1.25,\n",
       "  'luck': array([array([1. , 1. , 0.7, 1. , 1.3, 1. , 0.7]), array([1., 1., 1.]),\n",
       "         array([1.3]), array([], dtype=float64)], dtype=object),\n",
       "  'cp': 0,\n",
       "  'fmoves': [1],\n",
       "  'smoves': [2],\n",
       "  'abilities': []},\n",
       " 2: {'id': 2,\n",
       "  'uid': 2,\n",
       "  'level': 60,\n",
       "  'tot_xp': 150000,\n",
       "  'xp_to_next_level': 6000,\n",
       "  'type1': 'flight',\n",
       "  'type2': 'longrange',\n",
       "  'base_stats': [35, 20, 15, 23, 10, 17, 26],\n",
       "  'cur_stats': array([44., 33., 14., 29., 13., 22., 23.]),\n",
       "  'base_substats': array([241.,  94.,   1.,   1.]),\n",
       "  'cur_substats': array([286., 133.,   1.,   1.]),\n",
       "  'base_attributes_capacity': array([1378., 1377., 2350.]),\n",
       "  'cur_attributes_capacity': array([1633., 1627., 2140.]),\n",
       "  'base_attributes': array([1378,  490,  485]),\n",
       "  'cur_attributes': array([1379.,  491.,  340.]),\n",
       "  'mp': 0,\n",
       "  'mp_capacity': 200,\n",
       "  'mp_regen_per_second': 3,\n",
       "  'mp_gain_rate_damage_dealt': 0.2,\n",
       "  'mp_gain_rate_damage_taken': 0.3,\n",
       "  'states': [0, 0, 0],\n",
       "  'stats_coeff': array([[5.00000000e+00, 3.00000000e+00, 5.00000000e-03, 1.50000000e-02,\n",
       "          8.50000000e+01, 5.00000000e+01, 7.00000000e+01],\n",
       "         [6.50000000e+01, 3.30000000e+01, 2.04845349e-01, 4.61786623e-01,\n",
       "          5.27000000e+02, 5.26000000e+02, 5.29000000e+02]]),\n",
       "  'base_transition_matrix': [[0.5, 0.3, 0.2],\n",
       "   [0.25, 0.5, 0.25],\n",
       "   [0.2, 0.3, 0.5]],\n",
       "  'cur_transition_matrix': [[0.5, 0.3, 0.2],\n",
       "   [0.25, 0.5, 0.25],\n",
       "   [0.2, 0.3, 0.5]],\n",
       "  'wellness_goal': [1, 1, 1, 1, 1],\n",
       "  'wellness_factor': 1.25,\n",
       "  'luck': array([array([1. , 1.3, 0.7, 1. , 1. , 1. , 0.7]), array([1. , 1. , 0.7]),\n",
       "         array([1.]), array([], dtype=float64)], dtype=object),\n",
       "  'cp': 0,\n",
       "  'fmoves': [1],\n",
       "  'smoves': [2],\n",
       "  'abilities': []}}"
      ]
     },
     "execution_count": 27,
     "metadata": {},
     "output_type": "execute_result"
    }
   ],
   "source": [
    "minion_data"
   ]
  },
  {
   "cell_type": "markdown",
   "metadata": {},
   "source": [
    "For skill data:    \n",
    "- load from json   "
   ]
  },
  {
   "cell_type": "code",
   "execution_count": 28,
   "metadata": {},
   "outputs": [
    {
     "data": {
      "text/plain": [
       "{1: {'id': 1,\n",
       "  'name': 'fast_move_1',\n",
       "  'power': 20,\n",
       "  'mpdelta': 0,\n",
       "  'cast': 0,\n",
       "  'cd': 0.5,\n",
       "  'mtype': 'f'},\n",
       " 2: {'id': 2,\n",
       "  'name': 'super_move_1',\n",
       "  'power': 800,\n",
       "  'mpdelta': -80,\n",
       "  'cast': 0,\n",
       "  'cd': 10,\n",
       "  'mtype': 's'}}"
      ]
     },
     "execution_count": 28,
     "metadata": {},
     "output_type": "execute_result"
    }
   ],
   "source": [
    "skill_data"
   ]
  }
 ],
 "metadata": {
  "kernelspec": {
   "display_name": "Python 3",
   "language": "python",
   "name": "python3"
  },
  "language_info": {
   "codemirror_mode": {
    "name": "ipython",
    "version": 3
   },
   "file_extension": ".py",
   "mimetype": "text/x-python",
   "name": "python",
   "nbconvert_exporter": "python",
   "pygments_lexer": "ipython3",
   "version": "3.6.3"
  }
 },
 "nbformat": 4,
 "nbformat_minor": 2
}
