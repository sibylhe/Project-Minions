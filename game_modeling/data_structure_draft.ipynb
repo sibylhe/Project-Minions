{
 "cells": [
  {
   "cell_type": "markdown",
   "metadata": {},
   "source": [
    "# minion instance\n",
    "{\n",
    "\t\"mid\": 1,\n",
    "\t\"uid\": 1,\n",
    "\t\"level\": 60,\n",
    "\t\"tot_xp\": 150000,\n",
    "\t\"xp_to_next_level\": 6000,\n",
    "    \"tot_stats_pt\": 136,\n",
    "    \"assigned_stats_pt\": 136,\n",
    "    \"free_stats_pt\": 0,\n",
    "\t\"base_stats\": [35, 20, 15, 23, 10, 17, 26],  # str, end, dex, obd, con, int, wis; given by stats points\n",
    "\t#\"stats_ceiling\":[100, 100, 100, 100, 100, 100, 100],\n",
    "\t\"cur_stats\": [44, 25, 19, 23, 10, 17, 26],  # base_stats * wellness_factor * luck\n",
    "\t\"base_substats\": [150, 130, 0.15, -0.20],  # atk, def, crit, oby; f(base_stats)\n",
    "\t\"cur_substats\": [150, 130, 0.15, -0.20], # f(current_stats)\n",
    "\t\"base_attributes_capacity\": [2000, 500, 500],  # hit points, ability points, energy points; f(base_stats)\n",
    "\t\"cur_attributes_capacity\": [1900, 550, 550], # hit points, ability points, energy points; f(current_stats)\n",
    "    \"base_attributes\": [1900, 490, 485], # keep track of depletion and replenishment, clipped by base_attributes_ceiling\n",
    "    \"cur_attribues\": [1900, 490, 485], # base_attributes * luck, clipped by current_attributes_ceiling? problem: attibute ceiling is fluctuating\n",
    "\t\"states\": [0,0,0],\n",
    "\t\"base_transition_matrix\": [[0.5, 0.3, 0.2],\n",
    "            [0.25, 0.5, 0.25],\n",
    "            [0.2, 0.3, 0.5]],\n",
    "\t\"cur_transition_matrix\": [[0.5, 0.3, 0.2],\n",
    "            [0.25, 0.5, 0.25],\n",
    "            [0.2, 0.3, 0.5]], # f(base_transition_matrix, alpha)\n",
    "\t\"wellness_goal\": [1,1,1,1,1] # fast food vs grocery, gym vs movie, ...\n",
    "    \"wellness_factor\": 1.25, # f(wellness_goal, transaction or user activities)\n",
    "\t\"luck\": [-0.05, 0.2, -0.1, -0.15], # stats, attributes, skills, abilities\n",
    "\t\"cp\": 2456, # f(current_substats, current_attributes)\n",
    "\t\"skills\": [{\"sid\": 1, \"name\": \"fast_move_1\", \"type\": \"fmove\", \"cd\": 0.5, \"energy\": 20, \"power\": 100}, \n",
    "               {\"sid\": 2, \"name\": \"charge_move_1\", \"type\": \"cmove\", \"cd\": 10, \"energy\": -200, \"power\": 1500}]\n",
    "\t#\"abilities\": []\n",
    "}\n"
   ]
  },
  {
   "cell_type": "markdown",
   "metadata": {},
   "source": [
    "# skill instance\n",
    "{\n",
    "    \"sid\": 1,\n",
    "    \"name\": \"\",\n",
    "    \"type\": \"fast_move_1\",\n",
    "    \"cd\": 0.5,\n",
    "    \"energy\": 20,  # in traditional RPG, energy/MP increases during battle by making fmove/overtime. = energy points in our game?\n",
    "    \"power\": 100\n",
    "}\n",
    "\n",
    "{\n",
    "    \"sid\": 2,\n",
    "    \"name\": \"\",\n",
    "    \"type\": \"cmove\",\n",
    "    \"cd\": 10,\n",
    "    \"energy\": -200,\n",
    "    \"power\": 1500\n",
    "}\n",
    "\n",
    "# buff and debuff?"
   ]
  },
  {
   "cell_type": "markdown",
   "metadata": {},
   "source": [
    "# coin instance\n",
    "{\n",
    "    \"type\": 2, # 0: soul, 1: mind, 2: body\n",
    "    \"strength\": 0.2,\n",
    "    \"xp\": 50,\n",
    "    \"attributes\": [20, 3, 5], # replenish hit points, ability points, energy points\n",
    "    \"wellness_category\": [1, None, None, None, None], \n",
    "    \"weight\": 1.3 # given by f(minion's wellness_goal, wellness_category). computed at feeding\n",
    "}\n"
   ]
  },
  {
   "cell_type": "markdown",
   "metadata": {},
   "source": [
    "# ability instance"
   ]
  },
  {
   "cell_type": "markdown",
   "metadata": {},
   "source": [
    "# draft functions"
   ]
  },
  {
   "cell_type": "code",
   "execution_count": 1,
   "metadata": {},
   "outputs": [],
   "source": [
    "import numpy as np\n",
    "import random"
   ]
  },
  {
   "cell_type": "code",
   "execution_count": 53,
   "metadata": {},
   "outputs": [],
   "source": [
    "minion_1 = {\n",
    "\t\"mid\": 1,\n",
    "\t\"uid\": 1,\n",
    "\t\"level\": 60,\n",
    "\t\"tot_xp\": 150000,\n",
    "\t\"xp_to_next_level\": 6000,\n",
    "    \"tot_stats_pt\": 136,\n",
    "    \"assigned_stats_pt\": 136,\n",
    "    \"free_stats_pt\": 0,\n",
    "\t\"base_stats\": [35, 20, 15, 23, 10, 17, 26],  # str, end, dex, obd, con, int, wis; given by stats points\n",
    "\t#\"stats_ceiling\":[100, 100, 100, 100, 100, 100, 100],\n",
    "\t\"cur_stats\": [],  # base_stats * wellness_factor * luck\n",
    "\t\"base_substats\": [],  # atk, def, crit, succ; f(base_stats)\n",
    "\t\"cur_substats\": [], # f(current_stats)\n",
    "\t\"base_attributes_capacity\": [],  # hit points, ability points, energy points; f(base_stats)\n",
    "\t\"cur_attributes_capacity\": [], # hit points, ability points, energy points; f(current_stats)\n",
    "    \"base_attributes\": [1900, 490, 485], # keep track of depletion and replenishment, clipped by base_attributes_ceiling\n",
    "    \"cur_attributes\": [], # base_attributes * luck, clipped by current_attributes_ceiling? problem: attibute ceiling is fluctuating\n",
    "\t\"states\": [0,0,0],\n",
    "    \"stats_coeff\": [[5, 3, 0.005, 0.015, 85, 50, 70], #coefficents\n",
    "                    [60, 30, 0.20, 0.50, 500, 500, 500]], #initial substats and attributes at lvl 0\n",
    "\t\"base_transition_matrix\": [[0.5, 0.3, 0.2],\n",
    "            [0.25, 0.5, 0.25],\n",
    "            [0.2, 0.3, 0.5]],\n",
    "\t\"cur_transition_matrix\": [[0.5, 0.3, 0.2],\n",
    "            [0.25, 0.5, 0.25],\n",
    "            [0.2, 0.3, 0.5]], # f(base_transition_matrix, alpha)\n",
    "\t\"wellness_goal\": [1,1,1,1,1], # fast food vs grocery, gym vs movie, ...\n",
    "    \"wellness_factor\": 1.25, # f(wellness_goal, transaction or user activities)\n",
    "\t\"luck\": [], # stats, attributes, skills, abilities\n",
    "\t\"cp\": 0, # f(cur_substats, cur_attributes)\n",
    "\t\"skills\": {0:{\"sid\": 1, \"name\": \"fast_move_1\", \"type\": \"fmove\", \"cd\": 0.5, \"cost\": 5, \"power\": 20}, \n",
    "               1:{\"sid\": 2, \"name\": \"charge_move_1\", \"type\": \"cmove\", \"cd\": 10, \"cost\": -80, \"power\": 800}},\n",
    "\t\"abilities\": {}\n",
    "}"
   ]
  },
  {
   "cell_type": "code",
   "execution_count": null,
   "metadata": {},
   "outputs": [],
   "source": [
    "def compute_stats_pt(minion):\n",
    "    \n",
    "    minion['assigned_stats_pt'] = sum(np.array(minion['base_stats']))\n",
    "    minion['tot_stats_pt'] = \n",
    "    minion['free_stats_pt'] = minion['tot_stats_pt'] - minion['assigned_stats_pt']\n",
    "    return minion"
   ]
  },
  {
   "cell_type": "code",
   "execution_count": 48,
   "metadata": {},
   "outputs": [],
   "source": [
    "# strength, endurance, dexteiry, obedience, constitution, intelligence, wisdom\n",
    "# attack, defense, critical, success, hit points, ability points, energy points \n",
    "# https://na.leagueoflegends.com/en/game-info/champions/Ashe/\n",
    "base_stats_coeff_1 = [[5, 3, 0.005, 0.015, 85, 50, 70], #coefficents\n",
    "                      [60, 30, 0.20, 0.50, 500, 500, 500]] #initial substats and attributes at lvl 0\n",
    "\n",
    "def generate_stats_coeff(minion): #randomize initial substats and attributes by 10%\n",
    "    stats_coeff = np.array(minion['stats_coeff'])\n",
    "    rand_mat = np.array([random.uniform(0.9,1.1) for _ in range(len(stats_coeff[1]))])\n",
    "    stats_coeff[1] = np.multiply(stats_coeff[1], rand_mat)\n",
    "    stats_coeff[1][0:2] = np.floor(stats_coeff[1][0:2]) + 1\n",
    "    stats_coeff[1][4:7] = np.floor(stats_coeff[1][4:7]) + 1\n",
    "    minion['stats_coeff'] = stats_coeff\n",
    "    return minion\n"
   ]
  },
  {
   "cell_type": "code",
   "execution_count": 44,
   "metadata": {},
   "outputs": [],
   "source": [
    "def generate_luck(minion, p = [0.2, 0.65, 0.15], magnitude = 0.3):\n",
    "    # p: luck distribution, [bad, neutural, good]\n",
    "    n_stats = len(minion['base_stats'])\n",
    "    n_attributes = len(minion['base_attributes'])\n",
    "    n_skills = len(minion['skills'])\n",
    "    n_abilities = len(minion['abilities'])\n",
    "    \n",
    "    stats_luck = np.array([np.random.choice(1+np.arange(-1,2)*magnitude, p=p) for _ in range(n_stats)])\n",
    "    attributes_luck = np.array([np.random.choice(1+np.arange(-1,2)*magnitude, p=p) for _ in range(n_attributes)])\n",
    "    skills_luck = np.array([np.random.choice(1-np.arange(-1,2)*magnitude, p=p) for _ in range(n_skills)])\n",
    "    abilities_luck = np.array([np.random.choice(1-np.arange(-1,2)*magnitude, p=p) for _ in range(n_abilities)])\n",
    "\n",
    "    luck = np.array([stats_luck, attributes_luck, skills_luck, abilities_luck])\n",
    "    \n",
    "    minion['luck'] = luck\n",
    "    return minion"
   ]
  },
  {
   "cell_type": "code",
   "execution_count": 50,
   "metadata": {},
   "outputs": [],
   "source": [
    "def compute_current_stats(minion): # f(base_stats, base_attributes, luck, wellness_factor)\n",
    "    \n",
    "    def clip_by_capacity(attr, attr_capacity):\n",
    "        for i in range(len(attr)):\n",
    "            attr[i] = min(attr[i], attr_capacity[i])\n",
    "        return attr\n",
    "    \n",
    "    base_stats = np.array(minion['base_stats'])\n",
    "    base_attributes = np.array(minion['base_attributes'])\n",
    "    luck = np.array(minion['luck'])\n",
    "    wellness_factor = minion['wellness_factor']\n",
    "    stats_coeff = np.array(minion['stats_coeff'])\n",
    "    \n",
    "    # base_capacity = f(base_stats)\n",
    "    base_capacity = np.floor(np.multiply(base_stats, stats_coeff[0]) + stats_coeff[1]) + 1\n",
    "    base_substats = base_capacity[0:4]\n",
    "    base_attributes_capacity = base_capacity[4:7]\n",
    "    base_attributes = clip_by_capacity(base_attributes, base_attributes_capacity)\n",
    "    \n",
    "    # cur_stats = f(base_stats, luck, wellness_factor)\n",
    "    cur_stats = np.floor((np.multiply(base_stats, luck[0]) * wellness_factor)) + 1\n",
    "    \n",
    "    # cur_capacity = f(cur_stats)\n",
    "    cur_capacity = np.floor(np.multiply(cur_stats, stats_coeff[0]) + stats_coeff[1]) + 1\n",
    "    cur_substats = cur_capacity[0:4]\n",
    "    cur_attributes_capacity = cur_capacity[4:7]\n",
    "    \n",
    "    # cur_attributes = f(base_attributes, luck)\n",
    "    cur_attributes = clip_by_capacity(np.floor(np.multiply(base_attributes, luck[1])) + 1, cur_attributes_capacity)\n",
    "    \n",
    "    # tbd: cp = f(cur_substats, cur_attributes, skill's DPS, ...)\n",
    "    #cp = \n",
    "    \n",
    "    \n",
    "    # update\n",
    "    minion['base_substats'] = base_substats\n",
    "    minion['base_attributes_capacity'] = base_attributes_capacity\n",
    "    minion['base_attributes'] = base_attributes\n",
    "    minion['cur_stats'] = cur_stats\n",
    "    minion['cur_substats'] = cur_substats\n",
    "    minion['cur_attributes_capacity'] = cur_attributes_capacity\n",
    "    minion['cur_attributes'] = cur_attributes\n",
    "    #minion['cp'] = cp\n",
    "\n",
    "    return minion"
   ]
  },
  {
   "cell_type": "code",
   "execution_count": 54,
   "metadata": {},
   "outputs": [],
   "source": [
    "minion_1 = generate_stats_coeff(minion_1)\n",
    "minion_1 = generate_luck(minion_1)\n",
    "minion_1 = compute_current_stats(minion_1)"
   ]
  },
  {
   "cell_type": "code",
   "execution_count": 55,
   "metadata": {},
   "outputs": [
    {
     "data": {
      "text/plain": [
       "{'mid': 1,\n",
       " 'uid': 1,\n",
       " 'level': 60,\n",
       " 'tot_xp': 150000,\n",
       " 'xp_to_next_level': 6000,\n",
       " 'tot_stats_pt': 136,\n",
       " 'assigned_stats_pt': 136,\n",
       " 'free_stats_pt': 0,\n",
       " 'base_stats': [35, 20, 15, 23, 10, 17, 26],\n",
       " 'cur_stats': array([57., 26., 14., 29.,  9., 22., 23.]),\n",
       " 'base_substats': array([239.,  92.,   1.,   1.]),\n",
       " 'cur_substats': array([349., 110.,   1.,   1.]),\n",
       " 'base_attributes_capacity': array([1357., 1318., 2364.]),\n",
       " 'cur_attributes_capacity': array([1272., 1568., 2154.]),\n",
       " 'base_attributes': array([1357,  490,  485]),\n",
       " 'cur_attributes': array([1272.,  344.,  486.]),\n",
       " 'states': [0, 0, 0],\n",
       " 'stats_coeff': array([[5.00000000e+00, 3.00000000e+00, 5.00000000e-03, 1.50000000e-02,\n",
       "         8.50000000e+01, 5.00000000e+01, 7.00000000e+01],\n",
       "        [6.30000000e+01, 3.10000000e+01, 2.03257630e-01, 4.98200923e-01,\n",
       "         5.06000000e+02, 4.67000000e+02, 5.43000000e+02]]),\n",
       " 'base_transition_matrix': [[0.5, 0.3, 0.2],\n",
       "  [0.25, 0.5, 0.25],\n",
       "  [0.2, 0.3, 0.5]],\n",
       " 'cur_transition_matrix': [[0.5, 0.3, 0.2],\n",
       "  [0.25, 0.5, 0.25],\n",
       "  [0.2, 0.3, 0.5]],\n",
       " 'wellness_goal': [1, 1, 1, 1, 1],\n",
       " 'wellness_factor': 1.25,\n",
       " 'luck': array([array([1.3, 1. , 0.7, 1. , 0.7, 1. , 0.7]), array([1. , 0.7, 1. ]),\n",
       "        array([1. , 1.3]), array([], dtype=float64)], dtype=object),\n",
       " 'cp': 0,\n",
       " 'skills': {0: {'sid': 1,\n",
       "   'name': 'fast_move_1',\n",
       "   'type': 'fmove',\n",
       "   'cd': 0.5,\n",
       "   'cost': 5,\n",
       "   'power': 20},\n",
       "  1: {'sid': 2,\n",
       "   'name': 'charge_move_1',\n",
       "   'type': 'cmove',\n",
       "   'cd': 10,\n",
       "   'cost': -80,\n",
       "   'power': 800}},\n",
       " 'abilities': []}"
      ]
     },
     "execution_count": 55,
     "metadata": {},
     "output_type": "execute_result"
    }
   ],
   "source": [
    "minion_1"
   ]
  },
  {
   "cell_type": "code",
   "execution_count": null,
   "metadata": {},
   "outputs": [],
   "source": [
    "def give_coin(minion, coin):\n",
    "    \n",
    "    return minion"
   ]
  },
  {
   "cell_type": "code",
   "execution_count": null,
   "metadata": {},
   "outputs": [],
   "source": [
    "def assign_stats_pt(minion, stats_type, num_pt=1):\n",
    "    #stats_type: 0:str, 1:end, 2:dex, 3:obd, 4:con, 5:int, 6:wis\n",
    "    \n",
    "    return minion"
   ]
  },
  {
   "cell_type": "markdown",
   "metadata": {},
   "source": [
    "# battle simulator"
   ]
  },
  {
   "cell_type": "code",
   "execution_count": null,
   "metadata": {},
   "outputs": [],
   "source": [
    "def compute_attack_damage(attacker, defender, skill_id):\n",
    "    \n",
    "    def compute_cost(skill, skill_luck):\n",
    "        if skill['type'] == 'fmove': # fmove builds up mp?\n",
    "            cost = skill['cost'] * (2-skill_luck)\n",
    "        if skill['type'] == 'cmove':\n",
    "            cost = skill['cost'] * skill_luck\n",
    "        return cost\n",
    "    \n",
    "    def is_critical(critical_rate): # yes: 2 (critical hit creates 2x damage); no: 1\n",
    "        return np.random.choice(np.arange(1,3), p=[1-critical_rate, critical_rate])\n",
    "    \n",
    "    def is_success(success_rate): # yes: 1; no: 0\n",
    "        return np.random.choice(np.arange(0,2), p=[1-success_rate, success_rate])\n",
    "    \n",
    "    #a_substats = attacker['cur_substats']\n",
    "    #d_substats = defender['cur_substats']\n",
    "    #a_attr = attacker['cur_attribues']\n",
    "    #d_attr = defender['cur_attribues'] \n",
    "    \n",
    "    a_atk = attacker['cur_substats'][0]\n",
    "    a_critical_rate = attacker['cur_substats'][2]\n",
    "    a_success_rate = attacker['cur_substats'][3]\n",
    "    d_def = defender['cur_substats'][1]\n",
    "    \n",
    "    skill = attacker['skills'][skill_id]\n",
    "    skill_luck = attacker['luck'][2][skill_id]\n",
    "    cost = compute_cost(skill, skill_luck)\n",
    "    power = skill['power']\n",
    "    \n",
    "    a_ep = attacker['cur_attribues'][2]\n",
    "    d_hp = defender['cur_attribues'][0]\n",
    "    \n",
    "    # tbd: damage function\n",
    "    damage = (np.floor(a_atk/d_def * is_critical(a_critical_rate) * power) + 1) * is_success(a_success_rate)\n",
    "    attacker['cur_attribues'][2] = a_ep - cost\n",
    "    defender['cur_attribues'][0] = d_hp - damage\n",
    "    \n",
    "    # attacker: mp\n",
    "    # defender: hp\n",
    "    return attacker, defenser"
   ]
  },
  {
   "cell_type": "code",
   "execution_count": null,
   "metadata": {},
   "outputs": [],
   "source": []
  },
  {
   "cell_type": "code",
   "execution_count": null,
   "metadata": {},
   "outputs": [],
   "source": []
  },
  {
   "cell_type": "code",
   "execution_count": null,
   "metadata": {},
   "outputs": [],
   "source": []
  }
 ],
 "metadata": {
  "kernelspec": {
   "display_name": "Python 3",
   "language": "python",
   "name": "python3"
  },
  "language_info": {
   "codemirror_mode": {
    "name": "ipython",
    "version": 3
   },
   "file_extension": ".py",
   "mimetype": "text/x-python",
   "name": "python",
   "nbconvert_exporter": "python",
   "pygments_lexer": "ipython3",
   "version": "3.6.3"
  }
 },
 "nbformat": 4,
 "nbformat_minor": 2
}
