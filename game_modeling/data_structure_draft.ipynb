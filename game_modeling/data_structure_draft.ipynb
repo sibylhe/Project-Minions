{
 "cells": [
  {
   "cell_type": "code",
   "execution_count": null,
   "metadata": {},
   "outputs": [],
   "source": [
    "# minion instance\n",
    "{\n",
    "\t\"mid\": \"10000001\",\n",
    "\t\"uid\": \"12345678\",\n",
    "\t\"level\": 60,\n",
    "\t\"tot_xp\": 150000,\n",
    "\t\"xp_to_next_level\": 6000,\n",
    "\t\"base_stats\": [35, 20, 15, 23, 10, 17, 26],  # str, con, int, wis, dex, obd, end; given by stats points\n",
    "\t\"stats_ceiling\":[100, 100, 100, 100, 100, 100, 100],\n",
    "\t\"current_stats\": [44, 25, 19, 23, 10, 17, 26],  # base_stats * wellness_factor * luck\n",
    "\t\"base_substats\": [150, 130, 0.15, -0.20],  # atk, def, crit, oby; f(base_stats)\n",
    "\t\"current_substats\": [150, 130, 0.15, -0.20], # f(current_stats)\n",
    "\t\"base_attributes_ceiling\": [2000, 500, 500],  # hit points, ability points, energy points; f(base_stats)\n",
    "\t\"current_attributes_ceiling\": [1900, 550, 550], # hit points, ability points, energy points; f(current_stats)\n",
    "    \"base_attributes\": [1900, 490, 485], # keep track of depletion and replenishment, clipped by base_attributes_ceiling or current_?\n",
    "    \"current_attribues\": [1900, 490, 485] # base_attributes * luck, clipped by current_attributes_ceiling? problem: attibute ceiling is fluctuating\n",
    "\t\"states\": [0,0,0],\n",
    "\t\"base_transition_matrix\": [[0.5, 0.3, 0.2],\n",
    "            [0.25, 0.5, 0.25],\n",
    "            [0.2, 0.3, 0.5]],\n",
    "\t\"current_transition_matrix\": [[0.5, 0.3, 0.2],\n",
    "            [0.25, 0.5, 0.25],\n",
    "            [0.2, 0.3, 0.5]], # f(base_transition_matrix, alpha)\n",
    "\t\"wellness_goal\": [1,1,1,1,1] # fast food vs grocery, gym vs movie, ...\n",
    "    \"wellness_factor\": 1.25, # f(wellness_goal, transaction or user activities)\n",
    "\t\"luck\": [-0.05, 0.2, -0.1, -0.15], # stats, attributes, skills, abilities\n",
    "\t\"cp\": 2456, # f(current_substats, current_attributes)\n",
    "\t\"skills\": [],\n",
    "\t\"abilities\": []\n",
    "}"
   ]
  },
  {
   "cell_type": "code",
   "execution_count": null,
   "metadata": {},
   "outputs": [],
   "source": [
    "# skill instance\n",
    "{\n",
    "    \"sid\": \"00000001\"\n",
    "    \"name\": \"\",\n",
    "    \"type\": \"fmove\",\n",
    "    \"cd\": 0.5,\n",
    "    \"energy\": 20,  # in traditional RPG, energy/MP increases during battle by making fmove/overtime. = energy points in our game?\n",
    "    \"power\": 100\n",
    "}\n",
    "\n",
    "{\n",
    "    \"sid\": \"10000000\"\n",
    "    \"name\": \"\",\n",
    "    \"type\": \"cmove\",\n",
    "    \"cd\": 10,\n",
    "    \"energy\": -200,\n",
    "    \"power\": 1500\n",
    "}\n",
    "\n",
    "# buff and debuff?"
   ]
  },
  {
   "cell_type": "code",
   "execution_count": null,
   "metadata": {},
   "outputs": [],
   "source": [
    "# ability instance"
   ]
  },
  {
   "cell_type": "code",
   "execution_count": null,
   "metadata": {},
   "outputs": [],
   "source": [
    "# coin instance\n",
    "{\n",
    "    \"type\": 2, # 0: soul, 1: mind, 2: body\n",
    "    \"strength\": 0.2,\n",
    "    \"xp\": 50,\n",
    "    \"attributes\": [20, 3, 5], # replenish hit points, ability points, energy points\n",
    "    \"wellness_category\": [1, None, None, None, None], \n",
    "    \"weight\": 1.3 # given by f(minion's wellness_goal, wellness_category) or a global variable of goal-completion? if wellness_factor, computed at feeding, not collecting?\n",
    "}\n"
   ]
  },
  {
   "cell_type": "code",
   "execution_count": null,
   "metadata": {},
   "outputs": [],
   "source": []
  }
 ],
 "metadata": {
  "kernelspec": {
   "display_name": "Python 3",
   "language": "python",
   "name": "python3"
  },
  "language_info": {
   "codemirror_mode": {
    "name": "ipython",
    "version": 3
   },
   "file_extension": ".py",
   "mimetype": "text/x-python",
   "name": "python",
   "nbconvert_exporter": "python",
   "pygments_lexer": "ipython3",
   "version": "3.6.3"
  }
 },
 "nbformat": 4,
 "nbformat_minor": 2
}
