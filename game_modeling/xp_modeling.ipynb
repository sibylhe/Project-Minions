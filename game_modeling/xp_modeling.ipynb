{
 "cells": [
  {
   "cell_type": "code",
   "execution_count": 1,
   "metadata": {},
   "outputs": [],
   "source": [
    "import numpy as np\n",
    "#import pandas as pd\n",
    "import matplotlib.pyplot as plt\n",
    "%matplotlib inline"
   ]
  },
  {
   "cell_type": "code",
   "execution_count": 97,
   "metadata": {},
   "outputs": [],
   "source": [
    "def compute_params(params):\n",
    "    stats_pt_max = params['stats_pt_max']\n",
    "    stats_pt_per_phase = params['stats_pt_per_phase']\n",
    "    n_phases_per_evo = params['n_phases_per_evo']\n",
    "    stats_pt_per_evo = params['stats_pt_per_evo']\n",
    "    #n_pets = params['n_pets']\n",
    "    lvl_per_phase = params['lvl_per_phase']\n",
    "    lvl_per_evo = params['lvl_per_evo']\n",
    "    print(params)\n",
    "    \n",
    "    print('STATS pt per evolotion loop: %d'%(stats_pt_per_phase*n_phases_per_evo+stats_pt_per_evo))\n",
    "    n_evos = stats_pt_max/(stats_pt_per_phase*n_phases_per_evo+stats_pt_per_evo)\n",
    "    print('# evolutions before rounding: '+str(n_evos))\n",
    "    n_evos = int(n_evos)\n",
    "    stats_pt_max = n_evos*(stats_pt_per_phase*n_phases_per_evo+stats_pt_per_evo)\n",
    "    n_phases = n_evos*n_phases_per_evo\n",
    "    n_lvl = n_evos*lvl_per_evo + n_evos*n_phases_per_evo*lvl_per_phase\n",
    "    print('# evolutions after rounding: %d\\n# phases: %d\\n# levels: %d\\n# STATS pt: %d'%(n_evos, n_phases, n_lvl, stats_pt_max))\n",
    "    \n",
    "    params['stats_pt_max'] = stats_pt_max\n",
    "    params['n_evos'] = n_evos\n",
    "    params['n_phases'] = n_phases\n",
    "    params['n_lvl'] = n_lvl\n",
    "    return params"
   ]
  },
  {
   "cell_type": "code",
   "execution_count": 39,
   "metadata": {},
   "outputs": [],
   "source": [
    "def compute_turning_points(params,  \n",
    "    periods=np.array([2,3.5,5,7,7.5]), #by weeks, ~xp\n",
    "    n_evos_per_period=np.array([5,5,5,5,5]), #sum up to n_evos, ~lvl\n",
    "    xp_scaler = 10000):\n",
    "    \n",
    "    stats_pt_max = params['stats_pt_max']\n",
    "    stats_pt_per_phase = params['stats_pt_per_phase']\n",
    "    n_phases_per_evo = params['n_phases_per_evo']\n",
    "    stats_pt_per_evo = params['stats_pt_per_evo']\n",
    "    #n_pets = params['n_pets']\n",
    "    lvl_per_phase = params['lvl_per_phase']\n",
    "    lvl_per_evo = params['lvl_per_evo']\n",
    "    \n",
    "    #n_evos, n_phases, n_lvl = compute_params(params)\n",
    "    #n_weeks = sum(periods)\n",
    "    \n",
    "    xp_per_period = periods * xp_scaler\n",
    "    lvl_per_period = n_evos_per_period*(lvl_per_evo + n_phases_per_evo*lvl_per_phase)\n",
    "    \n",
    "    period_ax = [sum(periods[0:i]) for i in range(0, len(periods)+1)]\n",
    "    xp_ax = [sum(xp_per_period[0:i]) for i in range(0, len(xp_per_period)+1)]\n",
    "    lvl_ax = [sum(lvl_per_period[0:i]) for i in range(0, len(lvl_per_period)+1)]\n",
    "    \n",
    "    turning_points = [lvl_ax, xp_ax]\n",
    "    \n",
    "    for i in range(1,len(xp_ax)):\n",
    "        print('%s-%s weeks: lvl %d\\t%d xp'%(str(period_ax[i-1]), str(period_ax[i]), lvl_ax[i], xp_ax[i]))\n",
    "        \n",
    "    return turning_points\n"
   ]
  },
  {
   "cell_type": "code",
   "execution_count": 83,
   "metadata": {},
   "outputs": [],
   "source": [
    "def plot_func(f):\n",
    "    plt.figure(figsize=(12,8))\n",
    "    for p,v in f.items():\n",
    "        x = np.array([i for i in range(p[0],p[1]+1)])\n",
    "        k = v[1]\n",
    "        c = v[2]\n",
    "        if v[0] == 1:\n",
    "            y = k*x + c\n",
    "        if v[0] == 2:\n",
    "            y = k*x**2 + c\n",
    "        if v[0] == 3:\n",
    "            y = k*x**3 + c\n",
    "        plt.plot(x,y)\n",
    "    plt.xlabel('Level')\n",
    "    plt.ylabel('XP')\n",
    "    plt.show()"
   ]
  },
  {
   "cell_type": "code",
   "execution_count": 88,
   "metadata": {},
   "outputs": [],
   "source": [
    "def fit_func(turning_points, \n",
    "             func_per_period=[3,2,2,2,1], \n",
    "             plot=True):\n",
    "    \n",
    "    lvl_xp_func = {}\n",
    "    \n",
    "    for i in range(len(turning_points[0])-1):\n",
    "        y = np.array([turning_points[1][i], turning_points[1][i+1]]) #y\n",
    "\n",
    "        if func_per_period[i] == 1: #y = k * x + c\n",
    "            x = np.array([[turning_points[0][i], 1],[turning_points[0][i+1],1]])\n",
    "        if func_per_period[i] == 2: #y = k * x^2 + c\n",
    "            x = np.array([[turning_points[0][i]**2, 1],[turning_points[0][i+1]**2,1]])\n",
    "        if func_per_period[i] == 3: #y = k * x^3 + c\n",
    "            x = np.array([[turning_points[0][i]**3, 1],[turning_points[0][i+1]**3,1]])\n",
    "        \n",
    "        res = np.linalg.solve(x, y)\n",
    "        k = res[0]\n",
    "        c = res[1]\n",
    "        \n",
    "        lvl_xp_func[(turning_points[0][i], turning_points[0][i+1])] = [func_per_period[i], k, c]\n",
    "    \n",
    "    print(lvl_xp_func)\n",
    "    \n",
    "    #lvl_max = turning_points[0][-1]\n",
    "    \n",
    "    lvl_xp_lookup = {}\n",
    "    for p,v in lvl_xp_func.items():\n",
    "        x = np.array([i for i in range(p[0],p[1]+1)])\n",
    "        k = v[1]\n",
    "        c = v[2]\n",
    "        if v[0] == 1:\n",
    "            y = k*x + c\n",
    "        if v[0] == 2:\n",
    "            y = k*x**2 + c\n",
    "        if v[0] == 3:\n",
    "            y = k*x**3 + c\n",
    "        for i in range(len(x)):\n",
    "            if x[i] not in lvl_xp_lookup.keys():\n",
    "                lvl_xp_lookup[x[i]] = y[i]\n",
    "        \n",
    "        \n",
    "    if plot:\n",
    "        plot_func(lvl_xp_func)\n",
    "    \n",
    "    #print(lvl_xp_lookup)\n",
    "\n",
    "    return lvl_xp_func, lvl_xp_lookup\n",
    "    "
   ]
  },
  {
   "cell_type": "code",
   "execution_count": 108,
   "metadata": {},
   "outputs": [],
   "source": [
    "def map_xp_lvl(params,  \n",
    "               periods=np.array([2,3.5,5,7,7.5]), #sum up to n_weeks\n",
    "               n_evos_per_period=np.array([5,5,5,5,5]), #sum up to n_evos\n",
    "               func_per_period=[3,2,2,2,1], #1: linear, 2: quadratic, 3: cubic\n",
    "               xp_scaler = 10000):\n",
    "    \n",
    "    params = compute_params(params)\n",
    "    params['periods'] = periods\n",
    "    params['n_evos_per_period'] = n_evos_per_period\n",
    "    params['xp_scaler'] = xp_scaler\n",
    "    \n",
    "    turning_points = compute_turning_points(params, periods, n_evos_per_period, xp_scaler)\n",
    "    lvl_xp_func, lvl_xp_lookup = fit_func(turning_points, func_per_period, plot=True)\n",
    "    \n",
    "    #if sum(periods) != n_weeks:\n",
    "    #    print('Warning: sum of periods doesn''t match n_weeks.\\nsum of periods: %d    n_weeks: %d'%(int(sum(periods)), n_weeks)\n",
    "    \n",
    "    return params, lvl_xp_func, lvl_xp_lookup\n",
    "    "
   ]
  },
  {
   "cell_type": "markdown",
   "metadata": {},
   "source": [
    "# Model 1"
   ]
  },
  {
   "cell_type": "code",
   "execution_count": 99,
   "metadata": {},
   "outputs": [],
   "source": [
    "params1 = {\n",
    "    'stats_pt_max':1000,\n",
    "    'stats_pt_per_phase':4,\n",
    "    'n_phases_per_evo':5,\n",
    "    'stats_pt_per_evo':20,\n",
    "    #'n_pets':1,\n",
    "    #'n_weeks':25,\n",
    "    'lvl_per_phase':1, #int, >=1\n",
    "    'lvl_per_evo':1 #int, >=1\n",
    "}"
   ]
  },
  {
   "cell_type": "code",
   "execution_count": 100,
   "metadata": {},
   "outputs": [
    {
     "name": "stdout",
     "output_type": "stream",
     "text": [
      "{'stats_pt_max': 1000, 'stats_pt_per_phase': 4, 'n_phases_per_evo': 5, 'stats_pt_per_evo': 20, 'lvl_per_phase': 1, 'lvl_per_evo': 1}\n",
      "STATS pt per evolotion loop: 40\n",
      "# evolutions before rounding: 25.0\n",
      "# evolutions after rounding: 25\n",
      "# phases: 125\n",
      "# levels: 150\n",
      "# STATS pt: 1000\n"
     ]
    }
   ],
   "source": [
    "params1 = compute_params(params1)"
   ]
  },
  {
   "cell_type": "code",
   "execution_count": 101,
   "metadata": {},
   "outputs": [
    {
     "name": "stdout",
     "output_type": "stream",
     "text": [
      "0-2.0 weeks: lvl 30\t20000 xp\n",
      "2.0-5.5 weeks: lvl 60\t55000 xp\n",
      "5.5-10.5 weeks: lvl 90\t105000 xp\n",
      "10.5-17.5 weeks: lvl 120\t175000 xp\n",
      "17.5-25.0 weeks: lvl 150\t250000 xp\n"
     ]
    }
   ],
   "source": [
    "turning_points_1 = compute_turning_points(params1,  \n",
    "    periods=np.array([2,3.5,5,7,7.5]), #by weeks, ~xp\n",
    "    n_evos_per_period=np.array([5,5,5,5,5]), #sum up to # evolutions, ~lvl\n",
    "    xp_scaler = 10000)"
   ]
  },
  {
   "cell_type": "code",
   "execution_count": 102,
   "metadata": {},
   "outputs": [
    {
     "data": {
      "text/plain": [
       "[[0, 30, 60, 90, 120, 150],\n",
       " [0, 20000.0, 55000.0, 105000.0, 175000.0, 250000.0]]"
      ]
     },
     "execution_count": 102,
     "metadata": {},
     "output_type": "execute_result"
    }
   ],
   "source": [
    "turning_points_1"
   ]
  },
  {
   "cell_type": "code",
   "execution_count": 109,
   "metadata": {},
   "outputs": [
    {
     "name": "stdout",
     "output_type": "stream",
     "text": [
      "{'stats_pt_max': 1000, 'stats_pt_per_phase': 4, 'n_phases_per_evo': 5, 'stats_pt_per_evo': 20, 'lvl_per_phase': 1, 'lvl_per_evo': 1, 'n_evos': 25, 'n_phases': 125, 'n_lvl': 150, 'periods': array([2. , 3.5, 5. , 7. , 7.5]), 'n_evos_per_period': array([5, 5, 5, 5, 5]), 'xp_scaler': 10000}\n",
      "STATS pt per evolotion loop: 40\n",
      "# evolutions before rounding: 25.0\n",
      "# evolutions after rounding: 25\n",
      "# phases: 125\n",
      "# levels: 150\n",
      "# STATS pt: 1000\n",
      "0-2.0 weeks: lvl 30\t20000 xp\n",
      "2.0-5.5 weeks: lvl 60\t55000 xp\n",
      "5.5-10.5 weeks: lvl 90\t105000 xp\n",
      "10.5-17.5 weeks: lvl 120\t175000 xp\n",
      "17.5-25.0 weeks: lvl 150\t250000 xp\n",
      "{(0, 30): [3, 0.7407407407407407, 0.0], (30, 60): [2, 12.962962962962962, 8333.333333333334], (60, 90): [2, 11.11111111111111, 15000.000000000004], (90, 120): [2, 11.11111111111111, 15000.0], (120, 150): [1, 2500.000000000001, -125000.00000000009]}\n"
     ]
    },
    {
     "data": {
      "image/png": "[encoded data removed]",
      "text/plain": [
       "<matplotlib.figure.Figure at 0x112935438>"
      ]
     },
     "metadata": {},
     "output_type": "display_data"
    }
   ],
   "source": [
    "params1, lvl_xp_func_1, lvl_xp_lookup_1 = map_xp_lvl(params1,  \n",
    "               periods=np.array([2,3.5,5,7,7.5]), #sum up to n_weeks\n",
    "               n_evos_per_period=np.array([5,5,5,5,5]), #sum up to n_evos\n",
    "               func_per_period=[3,2,2,2,1], #1: linear, 2: quadratic, 3: cubic\n",
    "               xp_scaler = 10000)"
   ]
  },
  {
   "cell_type": "code",
   "execution_count": null,
   "metadata": {},
   "outputs": [],
   "source": []
  }
 ],
 "metadata": {
  "kernelspec": {
   "display_name": "Python 3",
   "language": "python",
   "name": "python3"
  },
  "language_info": {
   "codemirror_mode": {
    "name": "ipython",
    "version": 3
   },
   "file_extension": ".py",
   "mimetype": "text/x-python",
   "name": "python",
   "nbconvert_exporter": "python",
   "pygments_lexer": "ipython3",
   "version": "3.6.3"
  }
 },
 "nbformat": 4,
 "nbformat_minor": 2
}
