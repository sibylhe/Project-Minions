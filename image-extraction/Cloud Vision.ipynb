{
 "cells": [
  {
   "cell_type": "markdown",
   "metadata": {},
   "source": [
    "## Multiple Object Detection"
   ]
  },
  {
   "cell_type": "code",
   "execution_count": 58,
   "metadata": {},
   "outputs": [],
   "source": [
    "import os\n",
    "os.environ[\"GOOGLE_APPLICATION_CREDENTIALS\"]=\"/Users/sibylhe/Documents/DR/image_extraction/Image Extraction-eecf9a57849d.json\"\n",
    "\n",
    "def localize_objects(path):\n",
    "    \"\"\"Localize objects in the local image.\n",
    "\n",
    "    Args:\n",
    "    path: The path to the local file.\n",
    "    \"\"\"\n",
    "    from google.cloud import vision_v1p3beta1 as vision\n",
    "    client = vision.ImageAnnotatorClient()\n",
    "\n",
    "    with open(path, 'rb') as image_file:\n",
    "        content = image_file.read()\n",
    "    image = vision.types.Image(content=content)\n",
    "\n",
    "    objects = client.object_localization(\n",
    "        image=image).localized_object_annotations\n",
    "\n",
    "    print('Number of objects found: {}'.format(len(objects)))\n",
    "    for object_ in objects:\n",
    "        print('\\n{} (confidence: {})'.format(object_.name, object_.score))\n",
    "        print('Normalized bounding polygon vertices: ')\n",
    "        for vertex in object_.bounding_poly.normalized_vertices:\n",
    "            print(' - ({}, {})'.format(vertex.x, vertex.y))"
   ]
  },
  {
   "cell_type": "markdown",
   "metadata": {},
   "source": [
    "![title](image/138+E+14th+St,+New+York_1.png)"
   ]
  },
  {
   "cell_type": "code",
   "execution_count": 61,
   "metadata": {
    "scrolled": false
   },
   "outputs": [
    {
     "name": "stdout",
     "output_type": "stream",
     "text": [
      "Number of objects found: 3\n",
      "\n",
      "Car (confidence: 0.8524525761604309)\n",
      "Normalized bounding polygon vertices: \n",
      " - (0.4814865291118622, 0.7513974905014038)\n",
      " - (0.9968664050102234, 0.7513974905014038)\n",
      " - (0.9968664050102234, 0.9966025948524475)\n",
      " - (0.4814865291118622, 0.9966025948524475)\n",
      "\n",
      "Van (confidence: 0.7084232568740845)\n",
      "Normalized bounding polygon vertices: \n",
      " - (0.0039339810609817505, 0.590809166431427)\n",
      " - (0.1351248323917389, 0.590809166431427)\n",
      " - (0.1351248323917389, 0.9920144081115723)\n",
      " - (0.0039339810609817505, 0.9920144081115723)\n",
      "\n",
      "Building (confidence: 0.5453587174415588)\n",
      "Normalized bounding polygon vertices: \n",
      " - (0.00035295262932777405, 0.0012941285967826843)\n",
      " - (0.9996469616889954, 0.0012941285967826843)\n",
      " - (0.9996469616889954, 0.8899999856948853)\n",
      " - (0.00035295262932777405, 0.8899999856948853)\n"
     ]
    }
   ],
   "source": [
    "localize_objects(\"/Users/sibylhe/Documents/DR/image_extraction/image/138+E+14th+St,+New+York_1.png\")"
   ]
  },
  {
   "cell_type": "markdown",
   "metadata": {},
   "source": [
    "“Car” and “Van” constitute 18% of the image"
   ]
  },
  {
   "cell_type": "markdown",
   "metadata": {},
   "source": [
    "![title](image/138+E+14th+St,+New+York_2.png)"
   ]
  },
  {
   "cell_type": "code",
   "execution_count": 62,
   "metadata": {},
   "outputs": [
    {
     "name": "stdout",
     "output_type": "stream",
     "text": [
      "Number of objects found: 2\n",
      "\n",
      "Van (confidence: 0.9696447849273682)\n",
      "Normalized bounding polygon vertices: \n",
      " - (0.3594490885734558, 0.5237245559692383)\n",
      " - (0.9996097087860107, 0.5237245559692383)\n",
      " - (0.9996097087860107, 0.9190990924835205)\n",
      " - (0.3594490885734558, 0.9190990924835205)\n",
      "\n",
      "Car (confidence: 0.8812007308006287)\n",
      "Normalized bounding polygon vertices: \n",
      " - (0.0010600239038467407, 0.6170122623443604)\n",
      " - (0.18224647641181946, 0.6170122623443604)\n",
      " - (0.18224647641181946, 0.9102446436882019)\n",
      " - (0.0010600239038467407, 0.9102446436882019)\n"
     ]
    }
   ],
   "source": [
    "localize_objects(\"/Users/sibylhe/Documents/DR/image_extraction/image/138+E+14th+St,+New+York_2.png\")"
   ]
  },
  {
   "cell_type": "markdown",
   "metadata": {},
   "source": [
    "“Van” and “Car” constitute 40% of the image."
   ]
  },
  {
   "cell_type": "markdown",
   "metadata": {},
   "source": [
    "![title](image/138+E+14th+St,+New+York_6.png)"
   ]
  },
  {
   "cell_type": "code",
   "execution_count": 63,
   "metadata": {},
   "outputs": [
    {
     "name": "stdout",
     "output_type": "stream",
     "text": [
      "Number of objects found: 2\n",
      "\n",
      "Bicycle (confidence: 0.6480509042739868)\n",
      "Normalized bounding polygon vertices: \n",
      " - (0.5916005969047546, 0.7851858139038086)\n",
      " - (0.7204241156578064, 0.7851858139038086)\n",
      " - (0.7204241156578064, 0.9436563849449158)\n",
      " - (0.5916005969047546, 0.9436563849449158)\n",
      "\n",
      "Building (confidence: 0.6258305907249451)\n",
      "Normalized bounding polygon vertices: \n",
      " - (0.0008235424757003784, 0.0022353047970682383)\n",
      " - (0.9991764426231384, 0.0022353047970682383)\n",
      " - (0.9991764426231384, 0.8899999856948853)\n",
      " - (0.0008235424757003784, 0.8899999856948853)\n"
     ]
    }
   ],
   "source": [
    "localize_objects(\"/Users/sibylhe/Documents/DR/image_extraction/image/138+E+14th+St,+New+York_6.png\")"
   ]
  },
  {
   "cell_type": "markdown",
   "metadata": {},
   "source": [
    "![title](image/138+E+14th+St,+New+York_5.png)"
   ]
  },
  {
   "cell_type": "code",
   "execution_count": 66,
   "metadata": {},
   "outputs": [
    {
     "name": "stdout",
     "output_type": "stream",
     "text": [
      "Number of objects found: 1\n",
      "\n",
      "Building (confidence: 0.5453587174415588)\n",
      "Normalized bounding polygon vertices: \n",
      " - (0.00035295262932777405, 0.0017647221684455872)\n",
      " - (0.9991764426231384, 0.0017647221684455872)\n",
      " - (0.9991764426231384, 0.8899999856948853)\n",
      " - (0.00035295262932777405, 0.8899999856948853)\n"
     ]
    }
   ],
   "source": [
    "localize_objects(\"/Users/sibylhe/Documents/DR/image_extraction/image/138+E+14th+St,+New+York_5.png\")"
   ]
  },
  {
   "cell_type": "markdown",
   "metadata": {},
   "source": [
    "## OCR"
   ]
  },
  {
   "cell_type": "code",
   "execution_count": 67,
   "metadata": {},
   "outputs": [],
   "source": [
    "import io\n",
    "def detect_handwritten_ocr(path):\n",
    "    \"\"\"Detects handwritten characters in a local image.\n",
    "\n",
    "    Args:\n",
    "    path: The path to the local file.\n",
    "    \"\"\"\n",
    "    from google.cloud import vision_v1p3beta1 as vision\n",
    "    client = vision.ImageAnnotatorClient()\n",
    "\n",
    "    with io.open(path, 'rb') as image_file:\n",
    "        content = image_file.read()\n",
    "\n",
    "    image = vision.types.Image(content=content)\n",
    "\n",
    "    # Language hint codes for handwritten OCR:\n",
    "    # en-t-i0-handwrit, mul-Latn-t-i0-handwrit\n",
    "    # Note: Use only one language hint code per request for handwritten OCR.\n",
    "    image_context = vision.types.ImageContext(\n",
    "        language_hints=['en-t-i0-handwrit'])\n",
    "\n",
    "    response = client.document_text_detection(image=image,\n",
    "                                              image_context=image_context)\n",
    "\n",
    "    print('Full Text: {}'.format(response.full_text_annotation.text))\n",
    "    for page in response.full_text_annotation.pages:\n",
    "        for block in page.blocks:\n",
    "            print('\\nBlock confidence: {}\\n'.format(block.confidence))\n",
    "\n",
    "            for paragraph in block.paragraphs:\n",
    "                print('Paragraph confidence: {}'.format(\n",
    "                    paragraph.confidence))\n",
    "\n",
    "                for word in paragraph.words:\n",
    "                    word_text = ''.join([\n",
    "                        symbol.text for symbol in word.symbols\n",
    "                    ])\n",
    "                    print('Word text: {} (confidence: {})'.format(\n",
    "                        word_text, word.confidence))\n",
    "\n",
    "                    for symbol in word.symbols:\n",
    "                        print('\\tSymbol: {} (confidence: {})'.format(\n",
    "                            symbol.text, symbol.confidence))"
   ]
  },
  {
   "cell_type": "markdown",
   "metadata": {},
   "source": [
    "![title](image/11620+Monument+Dr,+Fairfax,+VA+22030.png)"
   ]
  },
  {
   "cell_type": "code",
   "execution_count": 71,
   "metadata": {
    "scrolled": true
   },
   "outputs": [
    {
     "name": "stdout",
     "output_type": "stream",
     "text": [
      "Full Text: Wegmans\n",
      "ÇADA A\n",
      "\n",
      "\n",
      "Block confidence: 0.8799999952316284\n",
      "\n",
      "Paragraph confidence: 0.8799999952316284\n",
      "Word text: Wegmans (confidence: 0.8799999952316284)\n",
      "\tSymbol: W (confidence: 0.75)\n",
      "\tSymbol: e (confidence: 0.9599999785423279)\n",
      "\tSymbol: g (confidence: 0.9800000190734863)\n",
      "\tSymbol: m (confidence: 0.9300000071525574)\n",
      "\tSymbol: a (confidence: 0.8999999761581421)\n",
      "\tSymbol: n (confidence: 0.9399999976158142)\n",
      "\tSymbol: s (confidence: 0.7599999904632568)\n",
      "\n",
      "Block confidence: 0.4300000071525574\n",
      "\n",
      "Paragraph confidence: 0.4300000071525574\n",
      "Word text: ÇADA (confidence: 0.4699999988079071)\n",
      "\tSymbol: Ç (confidence: 0.23999999463558197)\n",
      "\tSymbol: A (confidence: 0.3499999940395355)\n",
      "\tSymbol: D (confidence: 0.3799999952316284)\n",
      "\tSymbol: A (confidence: 0.9300000071525574)\n",
      "Word text: A (confidence: 0.28999999165534973)\n",
      "\tSymbol: A (confidence: 0.28999999165534973)\n"
     ]
    }
   ],
   "source": [
    "detect_handwritten_ocr(\"/Users/sibylhe/Documents/DR/image_extraction/image/11620+Monument+Dr,+Fairfax,+VA+22030.png\")"
   ]
  },
  {
   "cell_type": "markdown",
   "metadata": {},
   "source": [
    "![title](image/138+E+14th+St,+New+York_5.png)"
   ]
  },
  {
   "cell_type": "code",
   "execution_count": 70,
   "metadata": {},
   "outputs": [
    {
     "name": "stdout",
     "output_type": "stream",
     "text": [
      "Full Text: IT TT TTT\n",
      "TTTTT\n",
      "RANDO\n",
      "\n",
      "\n",
      "Block confidence: 0.550000011920929\n",
      "\n",
      "Paragraph confidence: 0.550000011920929\n",
      "Word text: IT (confidence: 0.49000000953674316)\n",
      "\tSymbol: I (confidence: 0.4000000059604645)\n",
      "\tSymbol: T (confidence: 0.5799999833106995)\n",
      "Word text: TT (confidence: 0.550000011920929)\n",
      "\tSymbol: T (confidence: 0.8899999856948853)\n",
      "\tSymbol: T (confidence: 0.2199999988079071)\n",
      "Word text: TTT (confidence: 0.5899999737739563)\n",
      "\tSymbol: T (confidence: 0.5600000023841858)\n",
      "\tSymbol: T (confidence: 0.6499999761581421)\n",
      "\tSymbol: T (confidence: 0.5799999833106995)\n",
      "\n",
      "Block confidence: 0.6100000143051147\n",
      "\n",
      "Paragraph confidence: 0.6100000143051147\n",
      "Word text: TTTTT (confidence: 0.6100000143051147)\n",
      "\tSymbol: T (confidence: 0.9200000166893005)\n",
      "\tSymbol: T (confidence: 0.5)\n",
      "\tSymbol: T (confidence: 0.6800000071525574)\n",
      "\tSymbol: T (confidence: 0.3400000035762787)\n",
      "\tSymbol: T (confidence: 0.6100000143051147)\n",
      "\n",
      "Block confidence: 0.8399999737739563\n",
      "\n",
      "Paragraph confidence: 0.8399999737739563\n",
      "Word text: RANDO (confidence: 0.8399999737739563)\n",
      "\tSymbol: R (confidence: 0.8100000023841858)\n",
      "\tSymbol: A (confidence: 0.9300000071525574)\n",
      "\tSymbol: N (confidence: 0.9599999785423279)\n",
      "\tSymbol: D (confidence: 0.9700000286102295)\n",
      "\tSymbol: O (confidence: 0.5400000214576721)\n"
     ]
    }
   ],
   "source": [
    "detect_handwritten_ocr(\"/Users/sibylhe/Documents/DR/image_extraction/image/138+E+14th+St,+New+York_5.png\")"
   ]
  },
  {
   "cell_type": "markdown",
   "metadata": {},
   "source": [
    "![title](image/138+E+14th+St,+New+York_6.png)"
   ]
  },
  {
   "cell_type": "code",
   "execution_count": 72,
   "metadata": {},
   "outputs": [
    {
     "name": "stdout",
     "output_type": "stream",
     "text": [
      "Full Text: TTTTTTTT\n",
      "TRADERO\n",
      "MHESHO\n",
      "\n",
      "\n",
      "Block confidence: 0.7900000214576721\n",
      "\n",
      "Paragraph confidence: 0.7900000214576721\n",
      "Word text: TTTTTTTT (confidence: 0.7900000214576721)\n",
      "\tSymbol: T (confidence: 0.8199999928474426)\n",
      "\tSymbol: T (confidence: 0.7300000190734863)\n",
      "\tSymbol: T (confidence: 0.8199999928474426)\n",
      "\tSymbol: T (confidence: 0.8799999952316284)\n",
      "\tSymbol: T (confidence: 0.9200000166893005)\n",
      "\tSymbol: T (confidence: 0.6499999761581421)\n",
      "\tSymbol: T (confidence: 0.8700000047683716)\n",
      "\tSymbol: T (confidence: 0.699999988079071)\n",
      "\n",
      "Block confidence: 0.8199999928474426\n",
      "\n",
      "Paragraph confidence: 0.8399999737739563\n",
      "Word text: TRADERO (confidence: 0.8399999737739563)\n",
      "\tSymbol: T (confidence: 0.949999988079071)\n",
      "\tSymbol: R (confidence: 0.9700000286102295)\n",
      "\tSymbol: A (confidence: 0.9800000190734863)\n",
      "\tSymbol: D (confidence: 0.9399999976158142)\n",
      "\tSymbol: E (confidence: 0.9100000262260437)\n",
      "\tSymbol: R (confidence: 0.5600000023841858)\n",
      "\tSymbol: O (confidence: 0.5899999737739563)\n",
      "Paragraph confidence: 0.800000011920929\n",
      "Word text: MHESHO (confidence: 0.800000011920929)\n",
      "\tSymbol: M (confidence: 0.6800000071525574)\n",
      "\tSymbol: H (confidence: 0.8799999952316284)\n",
      "\tSymbol: E (confidence: 0.9599999785423279)\n",
      "\tSymbol: S (confidence: 0.949999988079071)\n",
      "\tSymbol: H (confidence: 1.0)\n",
      "\tSymbol: O (confidence: 0.3700000047683716)\n"
     ]
    }
   ],
   "source": [
    "detect_handwritten_ocr(\"/Users/sibylhe/Documents/DR/image_extraction/image/138+E+14th+St,+New+York_6.png\")"
   ]
  },
  {
   "cell_type": "markdown",
   "metadata": {},
   "source": [
    "![title](image/138+E+14th+St,+New+York_1.png)"
   ]
  },
  {
   "cell_type": "code",
   "execution_count": 73,
   "metadata": {},
   "outputs": [
    {
     "name": "stdout",
     "output_type": "stream",
     "text": [
      "Full Text: PLA\n",
      "I\n",
      "IR DAR\n",
      "FER THAT\n",
      "KDEN JEE\n",
      "WINE SHOP\n",
      "EAST COAST\n",
      "\n",
      "\n",
      "Block confidence: 0.6700000166893005\n",
      "\n",
      "Paragraph confidence: 0.6700000166893005\n",
      "Word text: PLA (confidence: 0.6700000166893005)\n",
      "\tSymbol: P (confidence: 0.8199999928474426)\n",
      "\tSymbol: L (confidence: 0.3799999952316284)\n",
      "\tSymbol: A (confidence: 0.8199999928474426)\n",
      "\n",
      "Block confidence: 0.5099999904632568\n",
      "\n",
      "Paragraph confidence: 0.5099999904632568\n",
      "Word text: I (confidence: 0.5099999904632568)\n",
      "\tSymbol: I (confidence: 0.5099999904632568)\n",
      "\n",
      "Block confidence: 0.550000011920929\n",
      "\n",
      "Paragraph confidence: 0.550000011920929\n",
      "Word text: IR (confidence: 0.5699999928474426)\n",
      "\tSymbol: I (confidence: 0.44999998807907104)\n",
      "\tSymbol: R (confidence: 0.6899999976158142)\n",
      "Word text: DAR (confidence: 0.5400000214576721)\n",
      "\tSymbol: D (confidence: 0.5)\n",
      "\tSymbol: A (confidence: 0.6499999761581421)\n",
      "\tSymbol: R (confidence: 0.49000000953674316)\n",
      "\n",
      "Block confidence: 0.5899999737739563\n",
      "\n",
      "Paragraph confidence: 0.5899999737739563\n",
      "Word text: FER (confidence: 0.7599999904632568)\n",
      "\tSymbol: F (confidence: 0.9399999976158142)\n",
      "\tSymbol: E (confidence: 0.44999998807907104)\n",
      "\tSymbol: R (confidence: 0.9100000262260437)\n",
      "Word text: THAT (confidence: 0.4699999988079071)\n",
      "\tSymbol: T (confidence: 0.17000000178813934)\n",
      "\tSymbol: H (confidence: 0.949999988079071)\n",
      "\tSymbol: A (confidence: 0.4300000071525574)\n",
      "\tSymbol: T (confidence: 0.33000001311302185)\n",
      "\n",
      "Block confidence: 0.8399999737739563\n",
      "\n",
      "Paragraph confidence: 0.7799999713897705\n",
      "Word text: KDEN (confidence: 0.8799999952316284)\n",
      "\tSymbol: K (confidence: 0.9599999785423279)\n",
      "\tSymbol: D (confidence: 0.8899999856948853)\n",
      "\tSymbol: E (confidence: 0.9700000286102295)\n",
      "\tSymbol: N (confidence: 0.7200000286102295)\n",
      "Word text: JEE (confidence: 0.6399999856948853)\n",
      "\tSymbol: J (confidence: 0.6499999761581421)\n",
      "\tSymbol: E (confidence: 0.9599999785423279)\n",
      "\tSymbol: E (confidence: 0.33000001311302185)\n",
      "Paragraph confidence: 0.8999999761581421\n",
      "Word text: WINE (confidence: 0.8299999833106995)\n",
      "\tSymbol: W (confidence: 0.8399999737739563)\n",
      "\tSymbol: I (confidence: 0.7799999713897705)\n",
      "\tSymbol: N (confidence: 0.8899999856948853)\n",
      "\tSymbol: E (confidence: 0.8399999737739563)\n",
      "Word text: SHOP (confidence: 0.9700000286102295)\n",
      "\tSymbol: S (confidence: 0.9700000286102295)\n",
      "\tSymbol: H (confidence: 1.0)\n",
      "\tSymbol: O (confidence: 0.9800000190734863)\n",
      "\tSymbol: P (confidence: 0.949999988079071)\n",
      "\n",
      "Block confidence: 0.9800000190734863\n",
      "\n",
      "Paragraph confidence: 0.9800000190734863\n",
      "Word text: EAST (confidence: 0.9900000095367432)\n",
      "\tSymbol: E (confidence: 0.9900000095367432)\n",
      "\tSymbol: A (confidence: 0.9900000095367432)\n",
      "\tSymbol: S (confidence: 1.0)\n",
      "\tSymbol: T (confidence: 1.0)\n",
      "Word text: COAST (confidence: 0.9700000286102295)\n",
      "\tSymbol: C (confidence: 0.8600000143051147)\n",
      "\tSymbol: O (confidence: 1.0)\n",
      "\tSymbol: A (confidence: 1.0)\n",
      "\tSymbol: S (confidence: 1.0)\n",
      "\tSymbol: T (confidence: 1.0)\n"
     ]
    }
   ],
   "source": [
    "detect_handwritten_ocr(\"/Users/sibylhe/Documents/DR/image_extraction/image/138+E+14th+St,+New+York_1.png\")"
   ]
  },
  {
   "cell_type": "markdown",
   "metadata": {},
   "source": [
    "![title](image/138+E+14th+St,+New+York_2.png)"
   ]
  },
  {
   "cell_type": "code",
   "execution_count": 74,
   "metadata": {
    "scrolled": false
   },
   "outputs": [
    {
     "name": "stdout",
     "output_type": "stream",
     "text": [
      "Full Text: 7 TEREZA\n",
      "TRADERS\n",
      "NE SHOP\n",
      "& EC MECHANICA\n",
      "East Coast Mechanical Contracting C\n",
      "EAST COAST\n",
      "1800 545-9155\n",
      "INDUSTRIAL CÒMMERCIAL BOLER & BURNER INSTA\n",
      "\n",
      "\n",
      "Block confidence: 0.6800000071525574\n",
      "\n",
      "Paragraph confidence: 0.6800000071525574\n",
      "Word text: 7 (confidence: 0.7599999904632568)\n",
      "\tSymbol: 7 (confidence: 0.7599999904632568)\n",
      "Word text: TEREZA (confidence: 0.6600000262260437)\n",
      "\tSymbol: T (confidence: 0.5600000023841858)\n",
      "\tSymbol: E (confidence: 0.7400000095367432)\n",
      "\tSymbol: R (confidence: 0.949999988079071)\n",
      "\tSymbol: E (confidence: 0.5400000214576721)\n",
      "\tSymbol: Z (confidence: 0.5899999737739563)\n",
      "\tSymbol: A (confidence: 0.6299999952316284)\n",
      "\n",
      "Block confidence: 0.8700000047683716\n",
      "\n",
      "Paragraph confidence: 0.8799999952316284\n",
      "Word text: TRADERS (confidence: 0.8799999952316284)\n",
      "\tSymbol: T (confidence: 0.9900000095367432)\n",
      "\tSymbol: R (confidence: 0.9900000095367432)\n",
      "\tSymbol: A (confidence: 1.0)\n",
      "\tSymbol: D (confidence: 0.9300000071525574)\n",
      "\tSymbol: E (confidence: 0.9399999976158142)\n",
      "\tSymbol: R (confidence: 0.9399999976158142)\n",
      "\tSymbol: S (confidence: 0.38999998569488525)\n",
      "Paragraph confidence: 0.8600000143051147\n",
      "Word text: NE (confidence: 0.8500000238418579)\n",
      "\tSymbol: N (confidence: 0.75)\n",
      "\tSymbol: E (confidence: 0.9599999785423279)\n",
      "Word text: SHOP (confidence: 0.8700000047683716)\n",
      "\tSymbol: S (confidence: 0.9700000286102295)\n",
      "\tSymbol: H (confidence: 0.949999988079071)\n",
      "\tSymbol: O (confidence: 0.75)\n",
      "\tSymbol: P (confidence: 0.8299999833106995)\n",
      "\n",
      "Block confidence: 0.9200000166893005\n",
      "\n",
      "Paragraph confidence: 0.9200000166893005\n",
      "Word text: & (confidence: 0.3799999952316284)\n",
      "\tSymbol: & (confidence: 0.3799999952316284)\n",
      "Word text: EC (confidence: 0.9100000262260437)\n",
      "\tSymbol: E (confidence: 0.9200000166893005)\n",
      "\tSymbol: C (confidence: 0.9100000262260437)\n",
      "Word text: MECHANICA (confidence: 0.9800000190734863)\n",
      "\tSymbol: M (confidence: 0.9100000262260437)\n",
      "\tSymbol: E (confidence: 1.0)\n",
      "\tSymbol: C (confidence: 0.9900000095367432)\n",
      "\tSymbol: H (confidence: 1.0)\n",
      "\tSymbol: A (confidence: 1.0)\n",
      "\tSymbol: N (confidence: 1.0)\n",
      "\tSymbol: I (confidence: 0.9800000190734863)\n",
      "\tSymbol: C (confidence: 1.0)\n",
      "\tSymbol: A (confidence: 1.0)\n",
      "\n",
      "Block confidence: 0.9800000190734863\n",
      "\n",
      "Paragraph confidence: 0.9800000190734863\n",
      "Word text: East (confidence: 0.949999988079071)\n",
      "\tSymbol: E (confidence: 0.9900000095367432)\n",
      "\tSymbol: a (confidence: 0.8399999737739563)\n",
      "\tSymbol: s (confidence: 1.0)\n",
      "\tSymbol: t (confidence: 1.0)\n",
      "Word text: Coast (confidence: 0.9900000095367432)\n",
      "\tSymbol: C (confidence: 0.9900000095367432)\n",
      "\tSymbol: o (confidence: 1.0)\n",
      "\tSymbol: a (confidence: 1.0)\n",
      "\tSymbol: s (confidence: 1.0)\n",
      "\tSymbol: t (confidence: 1.0)\n",
      "Word text: Mechanical (confidence: 0.9900000095367432)\n",
      "\tSymbol: M (confidence: 0.9900000095367432)\n",
      "\tSymbol: e (confidence: 0.9900000095367432)\n",
      "\tSymbol: c (confidence: 0.9900000095367432)\n",
      "\tSymbol: h (confidence: 1.0)\n",
      "\tSymbol: a (confidence: 1.0)\n",
      "\tSymbol: n (confidence: 1.0)\n",
      "\tSymbol: i (confidence: 1.0)\n",
      "\tSymbol: c (confidence: 1.0)\n",
      "\tSymbol: a (confidence: 1.0)\n",
      "\tSymbol: l (confidence: 1.0)\n",
      "Word text: Contracting (confidence: 0.9900000095367432)\n",
      "\tSymbol: C (confidence: 0.9900000095367432)\n",
      "\tSymbol: o (confidence: 1.0)\n",
      "\tSymbol: n (confidence: 1.0)\n",
      "\tSymbol: t (confidence: 1.0)\n",
      "\tSymbol: r (confidence: 1.0)\n",
      "\tSymbol: a (confidence: 1.0)\n",
      "\tSymbol: c (confidence: 1.0)\n",
      "\tSymbol: t (confidence: 1.0)\n",
      "\tSymbol: i (confidence: 0.9900000095367432)\n",
      "\tSymbol: n (confidence: 1.0)\n",
      "\tSymbol: g (confidence: 1.0)\n",
      "Word text: C (confidence: 0.9100000262260437)\n",
      "\tSymbol: C (confidence: 0.9100000262260437)\n",
      "\n",
      "Block confidence: 0.9700000286102295\n",
      "\n",
      "Paragraph confidence: 0.9700000286102295\n",
      "Word text: EAST (confidence: 0.949999988079071)\n",
      "\tSymbol: E (confidence: 0.9200000166893005)\n",
      "\tSymbol: A (confidence: 0.9300000071525574)\n",
      "\tSymbol: S (confidence: 0.9800000190734863)\n",
      "\tSymbol: T (confidence: 1.0)\n",
      "Word text: COAST (confidence: 0.9800000190734863)\n",
      "\tSymbol: C (confidence: 0.949999988079071)\n",
      "\tSymbol: O (confidence: 0.9700000286102295)\n",
      "\tSymbol: A (confidence: 1.0)\n",
      "\tSymbol: S (confidence: 0.9800000190734863)\n",
      "\tSymbol: T (confidence: 1.0)\n",
      "\n",
      "Block confidence: 0.9200000166893005\n",
      "\n",
      "Paragraph confidence: 0.9200000166893005\n",
      "Word text: 1800 (confidence: 0.9800000190734863)\n",
      "\tSymbol: 1 (confidence: 0.9900000095367432)\n",
      "\tSymbol: 8 (confidence: 0.9599999785423279)\n",
      "\tSymbol: 0 (confidence: 1.0)\n",
      "\tSymbol: 0 (confidence: 1.0)\n",
      "Word text: 545 (confidence: 0.8299999833106995)\n",
      "\tSymbol: 5 (confidence: 0.9300000071525574)\n",
      "\tSymbol: 4 (confidence: 0.6399999856948853)\n",
      "\tSymbol: 5 (confidence: 0.9300000071525574)\n",
      "Word text: - (confidence: 0.9399999976158142)\n",
      "\tSymbol: - (confidence: 0.9399999976158142)\n",
      "Word text: 9155 (confidence: 0.9300000071525574)\n",
      "\tSymbol: 9 (confidence: 0.9599999785423279)\n",
      "\tSymbol: 1 (confidence: 0.8899999856948853)\n",
      "\tSymbol: 5 (confidence: 0.9100000262260437)\n",
      "\tSymbol: 5 (confidence: 0.9900000095367432)\n",
      "Word text: INDUSTRIAL (confidence: 0.9900000095367432)\n",
      "\tSymbol: I (confidence: 0.9900000095367432)\n",
      "\tSymbol: N (confidence: 1.0)\n",
      "\tSymbol: D (confidence: 1.0)\n",
      "\tSymbol: U (confidence: 1.0)\n",
      "\tSymbol: S (confidence: 1.0)\n",
      "\tSymbol: T (confidence: 1.0)\n",
      "\tSymbol: R (confidence: 1.0)\n",
      "\tSymbol: I (confidence: 0.9900000095367432)\n",
      "\tSymbol: A (confidence: 1.0)\n",
      "\tSymbol: L (confidence: 1.0)\n",
      "Word text: CÒMMERCIAL (confidence: 0.9100000262260437)\n",
      "\tSymbol: C (confidence: 1.0)\n",
      "\tSymbol: Ò (confidence: 0.6600000262260437)\n",
      "\tSymbol: M (confidence: 0.9100000262260437)\n",
      "\tSymbol: M (confidence: 0.6700000166893005)\n",
      "\tSymbol: E (confidence: 1.0)\n",
      "\tSymbol: R (confidence: 0.9900000095367432)\n",
      "\tSymbol: C (confidence: 0.949999988079071)\n",
      "\tSymbol: I (confidence: 0.9599999785423279)\n",
      "\tSymbol: A (confidence: 0.9800000190734863)\n",
      "\tSymbol: L (confidence: 0.9900000095367432)\n",
      "Word text: BOLER (confidence: 0.8899999856948853)\n",
      "\tSymbol: B (confidence: 0.9900000095367432)\n",
      "\tSymbol: O (confidence: 0.9900000095367432)\n",
      "\tSymbol: L (confidence: 0.6299999952316284)\n",
      "\tSymbol: E (confidence: 0.9399999976158142)\n",
      "\tSymbol: R (confidence: 0.9300000071525574)\n",
      "Word text: & (confidence: 0.47999998927116394)\n",
      "\tSymbol: & (confidence: 0.47999998927116394)\n",
      "Word text: BURNER (confidence: 0.949999988079071)\n",
      "\tSymbol: B (confidence: 0.949999988079071)\n",
      "\tSymbol: U (confidence: 0.9399999976158142)\n",
      "\tSymbol: R (confidence: 0.9100000262260437)\n",
      "\tSymbol: N (confidence: 0.9100000262260437)\n",
      "\tSymbol: E (confidence: 1.0)\n",
      "\tSymbol: R (confidence: 0.9900000095367432)\n",
      "Word text: INSTA (confidence: 0.9300000071525574)\n",
      "\tSymbol: I (confidence: 0.9100000262260437)\n",
      "\tSymbol: N (confidence: 0.9800000190734863)\n",
      "\tSymbol: S (confidence: 0.9399999976158142)\n",
      "\tSymbol: T (confidence: 0.9700000286102295)\n",
      "\tSymbol: A (confidence: 0.8700000047683716)\n"
     ]
    }
   ],
   "source": [
    "detect_handwritten_ocr(\"/Users/sibylhe/Documents/DR/image_extraction/image/138+E+14th+St,+New+York_2.png\")"
   ]
  }
 ],
 "metadata": {
  "kernelspec": {
   "display_name": "Python 3",
   "language": "python",
   "name": "python3"
  },
  "language_info": {
   "codemirror_mode": {
    "name": "ipython",
    "version": 3
   },
   "file_extension": ".py",
   "mimetype": "text/x-python",
   "name": "python",
   "nbconvert_exporter": "python",
   "pygments_lexer": "ipython3",
   "version": "3.6.3"
  }
 },
 "nbformat": 4,
 "nbformat_minor": 2
}
